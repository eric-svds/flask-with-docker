{
 "cells": [
  {
   "cell_type": "markdown",
   "metadata": {},
   "source": [
    "# Sample PCA analysis with Iris dataset\n",
    "\n",
    "The following are required for this notebook:\n",
    "- pip install matplotlib\n",
    "- pip install scikit-learn\n",
    "\n",
    "This notebook plots (and pickles) the Iris data set before and after Principal Component Analysis. Output is intended to be imported by a Flask application and passed to an HTML template. D3.js can be used to create scatterplots similar to the two shown below (only nicer, hopefully).\n",
    "\n",
    "The following cell imports sckikit-learn and the data set. A PCA is performed with 4 principal components. "
   ]
  },
  {
   "cell_type": "code",
   "execution_count": null,
   "metadata": {
    "collapsed": false
   },
   "outputs": [],
   "source": [
    "import matplotlib.pyplot as plt\n",
    "from sklearn import datasets\n",
    "from sklearn.decomposition import PCA\n",
    "import numpy as np\n",
    "%matplotlib inline\n",
    "\n",
    "# Import the infamous Iris Dataset\n",
    "iris = datasets.load_iris()\n",
    "\n",
    "# Keep only the first two features (Sepal length, width)\n",
    "X = iris.data\n",
    "Y = iris.target\n",
    "\n",
    "# Perform PCA on 4D data, keeping 2 principal components\n",
    "X_PCA = PCA(n_components=4).fit_transform(iris.data)"
   ]
  },
  {
   "cell_type": "markdown",
   "metadata": {},
   "source": [
    "### Plot Original Data Set\n",
    "\n",
    "Plot the Sepal width vs. Sepal length on the original data."
   ]
  },
  {
   "cell_type": "code",
   "execution_count": null,
   "metadata": {
    "collapsed": false
   },
   "outputs": [],
   "source": [
    "# Plot the first two features BEFORE doing the PCA\n",
    "plt.figure(2, figsize=(8, 6))\n",
    "\n",
    "plt.scatter(X[:, 0], X[:, 1], c=Y, cmap=plt.cm.Paired)\n",
    "plt.xlabel('Sepal length (cm)')\n",
    "plt.ylabel('Sepal width (cm)')\n",
    "\n",
    "plt.show()"
   ]
  },
  {
   "cell_type": "markdown",
   "metadata": {},
   "source": [
    "### Plot Data After PCA\n",
    "\n",
    "After performing a PCA, the first two components are plotted. Note that the two components plotted are linear combinations of the original 4 features of the data set."
   ]
  },
  {
   "cell_type": "code",
   "execution_count": null,
   "metadata": {
    "collapsed": false
   },
   "outputs": [],
   "source": [
    "# Plot the first two principal components AFTER the PCA\n",
    "plt.figure(2, figsize=(8, 6))\n",
    "\n",
    "plt.scatter(X_PCA[:, 0], X_PCA[:, 1], c=Y, cmap=plt.cm.Paired)\n",
    "plt.xlabel('Component 1')\n",
    "plt.ylabel('Component 2')\n",
    "\n",
    "plt.show()"
   ]
  },
  {
   "cell_type": "markdown",
   "metadata": {},
   "source": [
    "### Save Output\n",
    "\n",
    "The Flask application will make use of the following [D3 Scatterplot example](http://bl.ocks.org/weiglemc/6185069). Data has to be in a particular format (see link for example), this cell flips the data sets into that format and pickles the output."
   ]
  },
  {
   "cell_type": "code",
   "execution_count": null,
   "metadata": {
    "collapsed": false
   },
   "outputs": [],
   "source": [
    "# Pickle pre- and post-PCA data\n",
    "import pickle\n",
    "\n",
    "features = []\n",
    "for full_label in iris.feature_names:\n",
    "    name = full_label[:-5].split() # remove trailing ' (cm)'\n",
    "    features.append(name[0]+name[1].capitalize())\n",
    "features.append(\"species\")\n",
    "\n",
    "# Create full set for Iris data\n",
    "data1 = []\n",
    "data_PCA = []\n",
    "for i, vals in enumerate(X):\n",
    "    row1 = dict()\n",
    "    row_PCA = dict()\n",
    "    for k, val in enumerate(np.append(X[i], iris.target_names[Y[i]])):\n",
    "        row1[features[k]] = val\n",
    "    data1.append(row1)\n",
    "    for k, val in enumerate(np.append(X_PCA[i], iris.target_names[Y[i]])):\n",
    "        row_PCA[features[k]] = val\n",
    "    data_PCA.append(row_PCA)\n",
    "\n",
    "pickle.dump(data1, open(\"pkl/data1.pkl\", \"wb\"))\n",
    "pickle.dump(data_PCA, open(\"pkl/data_PCA.pkl\", \"wb\"))"
   ]
  }
 ],
 "metadata": {
  "kernelspec": {
   "display_name": "Python 2",
   "language": "python",
   "name": "python2"
  },
  "language_info": {
   "codemirror_mode": {
    "name": "ipython",
    "version": 2
   },
   "file_extension": ".py",
   "mimetype": "text/x-python",
   "name": "python",
   "nbconvert_exporter": "python",
   "pygments_lexer": "ipython2",
   "version": "2.7.10"
  }
 },
 "nbformat": 4,
 "nbformat_minor": 0
}
